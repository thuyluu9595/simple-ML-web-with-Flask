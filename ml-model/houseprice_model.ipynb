{
 "cells": [
  {
   "cell_type": "code",
   "execution_count": 1,
   "metadata": {
    "collapsed": true,
    "pycharm": {
     "name": "#%%\n"
    }
   },
   "outputs": [],
   "source": [
    "from sklearn.linear_model import LinearRegression\n",
    "import pandas as pd\n",
    "import numpy as np\n",
    "from sklearn.model_selection import train_test_split"
   ]
  },
  {
   "cell_type": "code",
   "execution_count": 3,
   "outputs": [
    {
     "data": {
      "text/plain": "      No  X1 transaction date  X2 house age  \\\n0      1             2012.917          32.0   \n1      2             2012.917          19.5   \n2      3             2013.583          13.3   \n3      4             2013.500          13.3   \n4      5             2012.833           5.0   \n..   ...                  ...           ...   \n409  410             2013.000          13.7   \n410  411             2012.667           5.6   \n411  412             2013.250          18.8   \n412  413             2013.000           8.1   \n413  414             2013.500           6.5   \n\n     X3 distance to the nearest MRT station  X4 number of convenience stores  \\\n0                                  84.87882                               10   \n1                                 306.59470                                9   \n2                                 561.98450                                5   \n3                                 561.98450                                5   \n4                                 390.56840                                5   \n..                                      ...                              ...   \n409                              4082.01500                                0   \n410                                90.45606                                9   \n411                               390.96960                                7   \n412                               104.81010                                5   \n413                                90.45606                                9   \n\n     X5 latitude  X6 longitude  Y house price of unit area  \n0       24.98298     121.54024                        37.9  \n1       24.98034     121.53951                        42.2  \n2       24.98746     121.54391                        47.3  \n3       24.98746     121.54391                        54.8  \n4       24.97937     121.54245                        43.1  \n..           ...           ...                         ...  \n409     24.94155     121.50381                        15.4  \n410     24.97433     121.54310                        50.0  \n411     24.97923     121.53986                        40.6  \n412     24.96674     121.54067                        52.5  \n413     24.97433     121.54310                        63.9  \n\n[414 rows x 8 columns]",
      "text/html": "<div>\n<style scoped>\n    .dataframe tbody tr th:only-of-type {\n        vertical-align: middle;\n    }\n\n    .dataframe tbody tr th {\n        vertical-align: top;\n    }\n\n    .dataframe thead th {\n        text-align: right;\n    }\n</style>\n<table border=\"1\" class=\"dataframe\">\n  <thead>\n    <tr style=\"text-align: right;\">\n      <th></th>\n      <th>No</th>\n      <th>X1 transaction date</th>\n      <th>X2 house age</th>\n      <th>X3 distance to the nearest MRT station</th>\n      <th>X4 number of convenience stores</th>\n      <th>X5 latitude</th>\n      <th>X6 longitude</th>\n      <th>Y house price of unit area</th>\n    </tr>\n  </thead>\n  <tbody>\n    <tr>\n      <th>0</th>\n      <td>1</td>\n      <td>2012.917</td>\n      <td>32.0</td>\n      <td>84.87882</td>\n      <td>10</td>\n      <td>24.98298</td>\n      <td>121.54024</td>\n      <td>37.9</td>\n    </tr>\n    <tr>\n      <th>1</th>\n      <td>2</td>\n      <td>2012.917</td>\n      <td>19.5</td>\n      <td>306.59470</td>\n      <td>9</td>\n      <td>24.98034</td>\n      <td>121.53951</td>\n      <td>42.2</td>\n    </tr>\n    <tr>\n      <th>2</th>\n      <td>3</td>\n      <td>2013.583</td>\n      <td>13.3</td>\n      <td>561.98450</td>\n      <td>5</td>\n      <td>24.98746</td>\n      <td>121.54391</td>\n      <td>47.3</td>\n    </tr>\n    <tr>\n      <th>3</th>\n      <td>4</td>\n      <td>2013.500</td>\n      <td>13.3</td>\n      <td>561.98450</td>\n      <td>5</td>\n      <td>24.98746</td>\n      <td>121.54391</td>\n      <td>54.8</td>\n    </tr>\n    <tr>\n      <th>4</th>\n      <td>5</td>\n      <td>2012.833</td>\n      <td>5.0</td>\n      <td>390.56840</td>\n      <td>5</td>\n      <td>24.97937</td>\n      <td>121.54245</td>\n      <td>43.1</td>\n    </tr>\n    <tr>\n      <th>...</th>\n      <td>...</td>\n      <td>...</td>\n      <td>...</td>\n      <td>...</td>\n      <td>...</td>\n      <td>...</td>\n      <td>...</td>\n      <td>...</td>\n    </tr>\n    <tr>\n      <th>409</th>\n      <td>410</td>\n      <td>2013.000</td>\n      <td>13.7</td>\n      <td>4082.01500</td>\n      <td>0</td>\n      <td>24.94155</td>\n      <td>121.50381</td>\n      <td>15.4</td>\n    </tr>\n    <tr>\n      <th>410</th>\n      <td>411</td>\n      <td>2012.667</td>\n      <td>5.6</td>\n      <td>90.45606</td>\n      <td>9</td>\n      <td>24.97433</td>\n      <td>121.54310</td>\n      <td>50.0</td>\n    </tr>\n    <tr>\n      <th>411</th>\n      <td>412</td>\n      <td>2013.250</td>\n      <td>18.8</td>\n      <td>390.96960</td>\n      <td>7</td>\n      <td>24.97923</td>\n      <td>121.53986</td>\n      <td>40.6</td>\n    </tr>\n    <tr>\n      <th>412</th>\n      <td>413</td>\n      <td>2013.000</td>\n      <td>8.1</td>\n      <td>104.81010</td>\n      <td>5</td>\n      <td>24.96674</td>\n      <td>121.54067</td>\n      <td>52.5</td>\n    </tr>\n    <tr>\n      <th>413</th>\n      <td>414</td>\n      <td>2013.500</td>\n      <td>6.5</td>\n      <td>90.45606</td>\n      <td>9</td>\n      <td>24.97433</td>\n      <td>121.54310</td>\n      <td>63.9</td>\n    </tr>\n  </tbody>\n</table>\n<p>414 rows × 8 columns</p>\n</div>"
     },
     "execution_count": 3,
     "metadata": {},
     "output_type": "execute_result"
    }
   ],
   "source": [
    "df = pd.read_csv('Real estate.csv')\n",
    "df"
   ],
   "metadata": {
    "collapsed": false,
    "pycharm": {
     "name": "#%%\n"
    }
   }
  },
  {
   "cell_type": "code",
   "execution_count": 4,
   "outputs": [
    {
     "data": {
      "text/plain": "      No  X1_transaction_date  X2_house_age  \\\n0      1             2012.917          32.0   \n1      2             2012.917          19.5   \n2      3             2013.583          13.3   \n3      4             2013.500          13.3   \n4      5             2012.833           5.0   \n..   ...                  ...           ...   \n409  410             2013.000          13.7   \n410  411             2012.667           5.6   \n411  412             2013.250          18.8   \n412  413             2013.000           8.1   \n413  414             2013.500           6.5   \n\n     X3_distance_to_the_nearest_MRT_station  X4_number_of_convenience_stores  \\\n0                                  84.87882                               10   \n1                                 306.59470                                9   \n2                                 561.98450                                5   \n3                                 561.98450                                5   \n4                                 390.56840                                5   \n..                                      ...                              ...   \n409                              4082.01500                                0   \n410                                90.45606                                9   \n411                               390.96960                                7   \n412                               104.81010                                5   \n413                                90.45606                                9   \n\n     X5_latitude  X6_longitude  Y_house_price_of_unit_area  \n0       24.98298     121.54024                        37.9  \n1       24.98034     121.53951                        42.2  \n2       24.98746     121.54391                        47.3  \n3       24.98746     121.54391                        54.8  \n4       24.97937     121.54245                        43.1  \n..           ...           ...                         ...  \n409     24.94155     121.50381                        15.4  \n410     24.97433     121.54310                        50.0  \n411     24.97923     121.53986                        40.6  \n412     24.96674     121.54067                        52.5  \n413     24.97433     121.54310                        63.9  \n\n[414 rows x 8 columns]",
      "text/html": "<div>\n<style scoped>\n    .dataframe tbody tr th:only-of-type {\n        vertical-align: middle;\n    }\n\n    .dataframe tbody tr th {\n        vertical-align: top;\n    }\n\n    .dataframe thead th {\n        text-align: right;\n    }\n</style>\n<table border=\"1\" class=\"dataframe\">\n  <thead>\n    <tr style=\"text-align: right;\">\n      <th></th>\n      <th>No</th>\n      <th>X1_transaction_date</th>\n      <th>X2_house_age</th>\n      <th>X3_distance_to_the_nearest_MRT_station</th>\n      <th>X4_number_of_convenience_stores</th>\n      <th>X5_latitude</th>\n      <th>X6_longitude</th>\n      <th>Y_house_price_of_unit_area</th>\n    </tr>\n  </thead>\n  <tbody>\n    <tr>\n      <th>0</th>\n      <td>1</td>\n      <td>2012.917</td>\n      <td>32.0</td>\n      <td>84.87882</td>\n      <td>10</td>\n      <td>24.98298</td>\n      <td>121.54024</td>\n      <td>37.9</td>\n    </tr>\n    <tr>\n      <th>1</th>\n      <td>2</td>\n      <td>2012.917</td>\n      <td>19.5</td>\n      <td>306.59470</td>\n      <td>9</td>\n      <td>24.98034</td>\n      <td>121.53951</td>\n      <td>42.2</td>\n    </tr>\n    <tr>\n      <th>2</th>\n      <td>3</td>\n      <td>2013.583</td>\n      <td>13.3</td>\n      <td>561.98450</td>\n      <td>5</td>\n      <td>24.98746</td>\n      <td>121.54391</td>\n      <td>47.3</td>\n    </tr>\n    <tr>\n      <th>3</th>\n      <td>4</td>\n      <td>2013.500</td>\n      <td>13.3</td>\n      <td>561.98450</td>\n      <td>5</td>\n      <td>24.98746</td>\n      <td>121.54391</td>\n      <td>54.8</td>\n    </tr>\n    <tr>\n      <th>4</th>\n      <td>5</td>\n      <td>2012.833</td>\n      <td>5.0</td>\n      <td>390.56840</td>\n      <td>5</td>\n      <td>24.97937</td>\n      <td>121.54245</td>\n      <td>43.1</td>\n    </tr>\n    <tr>\n      <th>...</th>\n      <td>...</td>\n      <td>...</td>\n      <td>...</td>\n      <td>...</td>\n      <td>...</td>\n      <td>...</td>\n      <td>...</td>\n      <td>...</td>\n    </tr>\n    <tr>\n      <th>409</th>\n      <td>410</td>\n      <td>2013.000</td>\n      <td>13.7</td>\n      <td>4082.01500</td>\n      <td>0</td>\n      <td>24.94155</td>\n      <td>121.50381</td>\n      <td>15.4</td>\n    </tr>\n    <tr>\n      <th>410</th>\n      <td>411</td>\n      <td>2012.667</td>\n      <td>5.6</td>\n      <td>90.45606</td>\n      <td>9</td>\n      <td>24.97433</td>\n      <td>121.54310</td>\n      <td>50.0</td>\n    </tr>\n    <tr>\n      <th>411</th>\n      <td>412</td>\n      <td>2013.250</td>\n      <td>18.8</td>\n      <td>390.96960</td>\n      <td>7</td>\n      <td>24.97923</td>\n      <td>121.53986</td>\n      <td>40.6</td>\n    </tr>\n    <tr>\n      <th>412</th>\n      <td>413</td>\n      <td>2013.000</td>\n      <td>8.1</td>\n      <td>104.81010</td>\n      <td>5</td>\n      <td>24.96674</td>\n      <td>121.54067</td>\n      <td>52.5</td>\n    </tr>\n    <tr>\n      <th>413</th>\n      <td>414</td>\n      <td>2013.500</td>\n      <td>6.5</td>\n      <td>90.45606</td>\n      <td>9</td>\n      <td>24.97433</td>\n      <td>121.54310</td>\n      <td>63.9</td>\n    </tr>\n  </tbody>\n</table>\n<p>414 rows × 8 columns</p>\n</div>"
     },
     "execution_count": 4,
     "metadata": {},
     "output_type": "execute_result"
    }
   ],
   "source": [
    "# Rename column labels\n",
    "df.columns = df.columns.str.replace(' ', '_')\n",
    "df"
   ],
   "metadata": {
    "collapsed": false,
    "pycharm": {
     "name": "#%%\n"
    }
   }
  },
  {
   "cell_type": "code",
   "execution_count": 5,
   "outputs": [
    {
     "data": {
      "text/plain": "      No           X1_transaction_date  X2_house_age  \\\n0      1 1970-01-01 00:00:00.000002012          32.0   \n1      2 1970-01-01 00:00:00.000002012          19.5   \n2      3 1970-01-01 00:00:00.000002013          13.3   \n3      4 1970-01-01 00:00:00.000002013          13.3   \n4      5 1970-01-01 00:00:00.000002012           5.0   \n..   ...                           ...           ...   \n409  410 1970-01-01 00:00:00.000002013          13.7   \n410  411 1970-01-01 00:00:00.000002012           5.6   \n411  412 1970-01-01 00:00:00.000002013          18.8   \n412  413 1970-01-01 00:00:00.000002013           8.1   \n413  414 1970-01-01 00:00:00.000002013           6.5   \n\n     X3_distance_to_the_nearest_MRT_station  X4_number_of_convenience_stores  \\\n0                                  84.87882                               10   \n1                                 306.59470                                9   \n2                                 561.98450                                5   \n3                                 561.98450                                5   \n4                                 390.56840                                5   \n..                                      ...                              ...   \n409                              4082.01500                                0   \n410                                90.45606                                9   \n411                               390.96960                                7   \n412                               104.81010                                5   \n413                                90.45606                                9   \n\n     X5_latitude  X6_longitude  Y_house_price_of_unit_area  \n0       24.98298     121.54024                        37.9  \n1       24.98034     121.53951                        42.2  \n2       24.98746     121.54391                        47.3  \n3       24.98746     121.54391                        54.8  \n4       24.97937     121.54245                        43.1  \n..           ...           ...                         ...  \n409     24.94155     121.50381                        15.4  \n410     24.97433     121.54310                        50.0  \n411     24.97923     121.53986                        40.6  \n412     24.96674     121.54067                        52.5  \n413     24.97433     121.54310                        63.9  \n\n[414 rows x 8 columns]",
      "text/html": "<div>\n<style scoped>\n    .dataframe tbody tr th:only-of-type {\n        vertical-align: middle;\n    }\n\n    .dataframe tbody tr th {\n        vertical-align: top;\n    }\n\n    .dataframe thead th {\n        text-align: right;\n    }\n</style>\n<table border=\"1\" class=\"dataframe\">\n  <thead>\n    <tr style=\"text-align: right;\">\n      <th></th>\n      <th>No</th>\n      <th>X1_transaction_date</th>\n      <th>X2_house_age</th>\n      <th>X3_distance_to_the_nearest_MRT_station</th>\n      <th>X4_number_of_convenience_stores</th>\n      <th>X5_latitude</th>\n      <th>X6_longitude</th>\n      <th>Y_house_price_of_unit_area</th>\n    </tr>\n  </thead>\n  <tbody>\n    <tr>\n      <th>0</th>\n      <td>1</td>\n      <td>1970-01-01 00:00:00.000002012</td>\n      <td>32.0</td>\n      <td>84.87882</td>\n      <td>10</td>\n      <td>24.98298</td>\n      <td>121.54024</td>\n      <td>37.9</td>\n    </tr>\n    <tr>\n      <th>1</th>\n      <td>2</td>\n      <td>1970-01-01 00:00:00.000002012</td>\n      <td>19.5</td>\n      <td>306.59470</td>\n      <td>9</td>\n      <td>24.98034</td>\n      <td>121.53951</td>\n      <td>42.2</td>\n    </tr>\n    <tr>\n      <th>2</th>\n      <td>3</td>\n      <td>1970-01-01 00:00:00.000002013</td>\n      <td>13.3</td>\n      <td>561.98450</td>\n      <td>5</td>\n      <td>24.98746</td>\n      <td>121.54391</td>\n      <td>47.3</td>\n    </tr>\n    <tr>\n      <th>3</th>\n      <td>4</td>\n      <td>1970-01-01 00:00:00.000002013</td>\n      <td>13.3</td>\n      <td>561.98450</td>\n      <td>5</td>\n      <td>24.98746</td>\n      <td>121.54391</td>\n      <td>54.8</td>\n    </tr>\n    <tr>\n      <th>4</th>\n      <td>5</td>\n      <td>1970-01-01 00:00:00.000002012</td>\n      <td>5.0</td>\n      <td>390.56840</td>\n      <td>5</td>\n      <td>24.97937</td>\n      <td>121.54245</td>\n      <td>43.1</td>\n    </tr>\n    <tr>\n      <th>...</th>\n      <td>...</td>\n      <td>...</td>\n      <td>...</td>\n      <td>...</td>\n      <td>...</td>\n      <td>...</td>\n      <td>...</td>\n      <td>...</td>\n    </tr>\n    <tr>\n      <th>409</th>\n      <td>410</td>\n      <td>1970-01-01 00:00:00.000002013</td>\n      <td>13.7</td>\n      <td>4082.01500</td>\n      <td>0</td>\n      <td>24.94155</td>\n      <td>121.50381</td>\n      <td>15.4</td>\n    </tr>\n    <tr>\n      <th>410</th>\n      <td>411</td>\n      <td>1970-01-01 00:00:00.000002012</td>\n      <td>5.6</td>\n      <td>90.45606</td>\n      <td>9</td>\n      <td>24.97433</td>\n      <td>121.54310</td>\n      <td>50.0</td>\n    </tr>\n    <tr>\n      <th>411</th>\n      <td>412</td>\n      <td>1970-01-01 00:00:00.000002013</td>\n      <td>18.8</td>\n      <td>390.96960</td>\n      <td>7</td>\n      <td>24.97923</td>\n      <td>121.53986</td>\n      <td>40.6</td>\n    </tr>\n    <tr>\n      <th>412</th>\n      <td>413</td>\n      <td>1970-01-01 00:00:00.000002013</td>\n      <td>8.1</td>\n      <td>104.81010</td>\n      <td>5</td>\n      <td>24.96674</td>\n      <td>121.54067</td>\n      <td>52.5</td>\n    </tr>\n    <tr>\n      <th>413</th>\n      <td>414</td>\n      <td>1970-01-01 00:00:00.000002013</td>\n      <td>6.5</td>\n      <td>90.45606</td>\n      <td>9</td>\n      <td>24.97433</td>\n      <td>121.54310</td>\n      <td>63.9</td>\n    </tr>\n  </tbody>\n</table>\n<p>414 rows × 8 columns</p>\n</div>"
     },
     "execution_count": 5,
     "metadata": {},
     "output_type": "execute_result"
    }
   ],
   "source": [
    "df['X1_transaction_date']=pd.to_datetime(df['X1_transaction_date'])\n",
    "df"
   ],
   "metadata": {
    "collapsed": false,
    "pycharm": {
     "name": "#%%\n"
    }
   }
  },
  {
   "cell_type": "code",
   "execution_count": 6,
   "outputs": [
    {
     "data": {
      "text/plain": "     X2_house_age  X3_distance_to_the_nearest_MRT_station  \\\n0            32.0                                84.87882   \n1            19.5                               306.59470   \n2            13.3                               561.98450   \n3            13.3                               561.98450   \n4             5.0                               390.56840   \n..            ...                                     ...   \n409          13.7                              4082.01500   \n410           5.6                                90.45606   \n411          18.8                               390.96960   \n412           8.1                               104.81010   \n413           6.5                                90.45606   \n\n     X4_number_of_convenience_stores  \n0                                 10  \n1                                  9  \n2                                  5  \n3                                  5  \n4                                  5  \n..                               ...  \n409                                0  \n410                                9  \n411                                7  \n412                                5  \n413                                9  \n\n[414 rows x 3 columns]",
      "text/html": "<div>\n<style scoped>\n    .dataframe tbody tr th:only-of-type {\n        vertical-align: middle;\n    }\n\n    .dataframe tbody tr th {\n        vertical-align: top;\n    }\n\n    .dataframe thead th {\n        text-align: right;\n    }\n</style>\n<table border=\"1\" class=\"dataframe\">\n  <thead>\n    <tr style=\"text-align: right;\">\n      <th></th>\n      <th>X2_house_age</th>\n      <th>X3_distance_to_the_nearest_MRT_station</th>\n      <th>X4_number_of_convenience_stores</th>\n    </tr>\n  </thead>\n  <tbody>\n    <tr>\n      <th>0</th>\n      <td>32.0</td>\n      <td>84.87882</td>\n      <td>10</td>\n    </tr>\n    <tr>\n      <th>1</th>\n      <td>19.5</td>\n      <td>306.59470</td>\n      <td>9</td>\n    </tr>\n    <tr>\n      <th>2</th>\n      <td>13.3</td>\n      <td>561.98450</td>\n      <td>5</td>\n    </tr>\n    <tr>\n      <th>3</th>\n      <td>13.3</td>\n      <td>561.98450</td>\n      <td>5</td>\n    </tr>\n    <tr>\n      <th>4</th>\n      <td>5.0</td>\n      <td>390.56840</td>\n      <td>5</td>\n    </tr>\n    <tr>\n      <th>...</th>\n      <td>...</td>\n      <td>...</td>\n      <td>...</td>\n    </tr>\n    <tr>\n      <th>409</th>\n      <td>13.7</td>\n      <td>4082.01500</td>\n      <td>0</td>\n    </tr>\n    <tr>\n      <th>410</th>\n      <td>5.6</td>\n      <td>90.45606</td>\n      <td>9</td>\n    </tr>\n    <tr>\n      <th>411</th>\n      <td>18.8</td>\n      <td>390.96960</td>\n      <td>7</td>\n    </tr>\n    <tr>\n      <th>412</th>\n      <td>8.1</td>\n      <td>104.81010</td>\n      <td>5</td>\n    </tr>\n    <tr>\n      <th>413</th>\n      <td>6.5</td>\n      <td>90.45606</td>\n      <td>9</td>\n    </tr>\n  </tbody>\n</table>\n<p>414 rows × 3 columns</p>\n</div>"
     },
     "execution_count": 6,
     "metadata": {},
     "output_type": "execute_result"
    }
   ],
   "source": [
    "X = df.drop(['No','X1_transaction_date','Y_house_price_of_unit_area','X5_latitude','X6_longitude'], axis=1)\n",
    "X"
   ],
   "metadata": {
    "collapsed": false,
    "pycharm": {
     "name": "#%%\n"
    }
   }
  },
  {
   "cell_type": "code",
   "execution_count": 7,
   "outputs": [
    {
     "data": {
      "text/plain": "0      37.9\n1      42.2\n2      47.3\n3      54.8\n4      43.1\n       ... \n409    15.4\n410    50.0\n411    40.6\n412    52.5\n413    63.9\nName: Y_house_price_of_unit_area, Length: 414, dtype: float64"
     },
     "execution_count": 7,
     "metadata": {},
     "output_type": "execute_result"
    }
   ],
   "source": [
    "y = df['Y_house_price_of_unit_area']\n",
    "y"
   ],
   "metadata": {
    "collapsed": false,
    "pycharm": {
     "name": "#%%\n"
    }
   }
  },
  {
   "cell_type": "code",
   "execution_count": 8,
   "outputs": [],
   "source": [
    "model = LinearRegression()\n",
    "X_train, X_test, Y_train, Y_test = train_test_split(X,y,train_size=0.8)"
   ],
   "metadata": {
    "collapsed": false,
    "pycharm": {
     "name": "#%%\n"
    }
   }
  },
  {
   "cell_type": "code",
   "execution_count": 22,
   "outputs": [],
   "source": [
    "trained_model = model.fit(X_train.values, Y_train.values)"
   ],
   "metadata": {
    "collapsed": false,
    "pycharm": {
     "name": "#%%\n"
    }
   }
  },
  {
   "cell_type": "code",
   "execution_count": 28,
   "outputs": [
    {
     "data": {
      "text/plain": "0.5733222782441909"
     },
     "execution_count": 28,
     "metadata": {},
     "output_type": "execute_result"
    }
   ],
   "source": [
    "Score = trained_model.score(X_test.values, Y_test.values)\n",
    "Score"
   ],
   "metadata": {
    "collapsed": false,
    "pycharm": {
     "name": "#%%\n"
    }
   }
  },
  {
   "cell_type": "code",
   "execution_count": 24,
   "outputs": [
    {
     "name": "stdout",
     "output_type": "stream",
     "text": [
      "[46.95023092]\n"
     ]
    }
   ],
   "source": [
    "prediction = trained_model.predict([[19,300,8]])\n",
    "print(prediction)"
   ],
   "metadata": {
    "collapsed": false,
    "pycharm": {
     "name": "#%%\n"
    }
   }
  },
  {
   "cell_type": "code",
   "execution_count": 25,
   "outputs": [],
   "source": [
    "import pickle\n",
    "filename = 'model.sav'\n",
    "pickle.dump(trained_model,open(filename,'wb'))"
   ],
   "metadata": {
    "collapsed": false,
    "pycharm": {
     "name": "#%%\n"
    }
   }
  },
  {
   "cell_type": "code",
   "execution_count": 26,
   "outputs": [
    {
     "name": "stdout",
     "output_type": "stream",
     "text": [
      "[44.49991296]\n"
     ]
    }
   ],
   "source": [
    "model1 = pickle.load(open(filename,'rb'))\n",
    "pre = model1.predict([[15,200,5]])\n",
    "print(pre)"
   ],
   "metadata": {
    "collapsed": false,
    "pycharm": {
     "name": "#%%\n"
    }
   }
  },
  {
   "cell_type": "code",
   "execution_count": 27,
   "outputs": [
    {
     "name": "stdout",
     "output_type": "stream",
     "text": [
      "44\n"
     ]
    }
   ],
   "source": [
    "print(round(pre[0]))"
   ],
   "metadata": {
    "collapsed": false,
    "pycharm": {
     "name": "#%%\n"
    }
   }
  },
  {
   "cell_type": "code",
   "execution_count": null,
   "outputs": [],
   "source": [],
   "metadata": {
    "collapsed": false,
    "pycharm": {
     "name": "#%%\n"
    }
   }
  }
 ],
 "metadata": {
  "kernelspec": {
   "display_name": "Python 3",
   "language": "python",
   "name": "python3"
  },
  "language_info": {
   "codemirror_mode": {
    "name": "ipython",
    "version": 2
   },
   "file_extension": ".py",
   "mimetype": "text/x-python",
   "name": "python",
   "nbconvert_exporter": "python",
   "pygments_lexer": "ipython2",
   "version": "2.7.6"
  }
 },
 "nbformat": 4,
 "nbformat_minor": 0
}